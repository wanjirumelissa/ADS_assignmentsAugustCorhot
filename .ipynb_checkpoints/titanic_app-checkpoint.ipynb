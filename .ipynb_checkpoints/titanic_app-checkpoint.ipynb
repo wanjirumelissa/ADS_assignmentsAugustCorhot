{
 "cells": [
  {
   "cell_type": "code",
   "execution_count": 2,
   "id": "3b762e90",
   "metadata": {},
   "outputs": [
    {
     "name": "stderr",
     "output_type": "stream",
     "text": [
      "2023-12-07 13:37:28.893 \n",
      "  \u001b[33m\u001b[1mWarning:\u001b[0m to view this Streamlit app on a browser, run it with the following\n",
      "  command:\n",
      "\n",
      "    streamlit run C:\\Users\\admin\\Desktop\\Anaconda\\Lib\\site-packages\\ipykernel_launcher.py [ARGUMENTS]\n",
      "2023-12-07 13:37:28.895 No runtime found, using MemoryCacheStorageManager\n",
      "2023-12-07 13:37:28.902 No runtime found, using MemoryCacheStorageManager\n"
     ]
    },
    {
     "data": {
      "text/plain": [
       "DeltaGenerator()"
      ]
     },
     "execution_count": 2,
     "metadata": {},
     "output_type": "execute_result"
    }
   ],
   "source": [
    "import pandas as pd\n",
    "import plotly.express as px\n",
    "import streamlit as st\n",
    "\n",
    "st.title(\"Titanic Data Analysis\")\n",
    "st.write(\"This app analyzes the Titanic dataset and displays various visualizations.\")\n",
    "\n",
    "@st.cache_data\n",
    "def load_data():\n",
    "    url = 'https://raw.githubusercontent.com/datasciencedojo/datasets/master/titanic.csv'\n",
    "    data = pd.read_csv(url)\n",
    "    data['Age'].fillna(data['Age'].median(), inplace=True)\n",
    "    data['Embarked'].fillna(data['Embarked'].mode()[0], inplace=True)\n",
    "    data.drop('Cabin', axis=1, inplace=True)\n",
    "    data['FamilySize'] = data['SibSp'] + data['Parch'] + 1\n",
    "    data['IsAlone'] = data['FamilySize'].apply(lambda x: 1 if x == 1 else 0)\n",
    "    return data\n",
    "\n",
    "data = load_data()\n",
    "\n",
    "if st.checkbox(\"Show Raw Data\"):\n",
    "    st.subheader(\"Raw Data\")\n",
    "    st.write(data)\n",
    "\n",
    "gender_survival = data.groupby('Sex')['Survived'].mean().reset_index()\n",
    "fig_gender_survival = px.bar(gender_survival, x='Sex', y='Survived', title='Survival Rate by Gender')\n",
    "st.plotly_chart(fig_gender_survival)\n",
    "\n",
    "pclass_survival = data.groupby('Pclass')['Survived'].mean().reset_index()\n",
    "fig_pclass_survival = px.bar(pclass_survival, x='Pclass', y='Survived', title='Survival Rate by Passenger Class')\n",
    "st.plotly_chart(fig_pclass_survival)\n",
    "\n",
    "fig_age_distribution = px.histogram(data, x='Age', nbins=50, title='Age Distribution of Passengers')\n",
    "st.plotly_chart(fig_age_distribution)\n",
    "\n",
    "fig_age_survival = px.histogram(data, x='Age', color='Survived', nbins=50, title='Age Distribution by Survival Status')\n",
    "st.plotly_chart(fig_age_survival)"
   ]
  },
  {
   "cell_type": "code",
   "execution_count": null,
   "id": "c33b2cfd",
   "metadata": {},
   "outputs": [],
   "source": []
  }
 ],
 "metadata": {
  "kernelspec": {
   "display_name": "Python 3 (ipykernel)",
   "language": "python",
   "name": "python3"
  },
  "language_info": {
   "codemirror_mode": {
    "name": "ipython",
    "version": 3
   },
   "file_extension": ".py",
   "mimetype": "text/x-python",
   "name": "python",
   "nbconvert_exporter": "python",
   "pygments_lexer": "ipython3",
   "version": "3.11.5"
  }
 },
 "nbformat": 4,
 "nbformat_minor": 5
}

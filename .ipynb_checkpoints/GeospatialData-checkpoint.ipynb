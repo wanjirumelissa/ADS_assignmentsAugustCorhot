{
 "cells": [
  {
   "cell_type": "code",
   "execution_count": 2,
   "id": "60bded86",
   "metadata": {},
   "outputs": [
    {
     "name": "stdout",
     "output_type": "stream",
     "text": [
      "Most popular station: Market St at 10th St with 3904 rides\n",
      "Least popular station: 16th St Depot with 2 rides\n",
      "Average number of rides per station: 556.8844984802431\n"
     ]
    }
   ],
   "source": [
    "import csv\n",
    "import pandas as pd\n",
    "import folium\n",
    "\n",
    "# Read the bike share data from the CSV file and preprocess:\n",
    "df = pd.read_csv('C:/Users/admin/Documents/ADS_Assignments/tripdata.csv') \n",
    "\n",
    "# Extract the start station details and count the number of rides\n",
    "start_stations = df.groupby(['start_station_id', 'start_station_name', 'start_station_latitude', 'start_station_longitude']).size().reset_index(name='num_rides')\n",
    "\n",
    "# Rename columns for consistency\n",
    "start_stations.columns = ['station_id', 'station_name', 'latitude', 'longitude', 'num_rides']\n",
    "\n",
    "# Analyze the bike share data:\n",
    "most_popular_station = start_stations.loc[start_stations['num_rides'].idxmax()]\n",
    "least_popular_station = start_stations.loc[start_stations['num_rides'].idxmin()]\n",
    "average_rides_per_station = start_stations['num_rides'].mean()\n",
    "\n",
    "print(\"Most popular station:\", most_popular_station['station_name'], \"with\", most_popular_station['num_rides'], \"rides\")\n",
    "print(\"Least popular station:\", least_popular_station['station_name'], \"with\", least_popular_station['num_rides'], \"rides\")\n",
    "print(\"Average number of rides per station:\", average_rides_per_station)\n",
    "\n",
    "# Create a folium map to visualize the bike share data:\n",
    "map_center = [start_stations['latitude'].mean(), start_stations['longitude'].mean()]  # Center the map based on the mean latitude and longitude\n",
    "bike_map = folium.Map(location=map_center, zoom_start=12)\n",
    "\n",
    "# Plot the bike share station data on the map:\n",
    "\n",
    "def get_marker_color(num_rides):\n",
    "    if num_rides < 1000:\n",
    "        return 'green'\n",
    "    elif num_rides < 5000:\n",
    "        return 'orange'\n",
    "    else:\n",
    "        return 'red'\n",
    "\n",
    "# Iterate through each row in the start_stations DataFrame\n",
    "for _, row in start_stations.iterrows():\n",
    "    \n",
    "    # Get the appropriate marker color based on the number of rides for the current station\n",
    "    marker_color = get_marker_color(row['num_rides'])\n",
    "    \n",
    "    # Create a folium Marker object with the station's latitude and longitude coordinates\n",
    "    marker = folium.Marker(\n",
    "        location=[row['latitude'], row['longitude']],  # Marker location\n",
    "        icon=folium.Icon(color=marker_color),  # Custom marker color based on the number of rides\n",
    "        # Set the popup content to display the station name and number of rides\n",
    "        popup=f\"Station: {row['station_name']}<br>Rides: {row['num_rides']}\"\n",
    "    )\n",
    "    \n",
    "    # Add the marker to the bike_map\n",
    "    marker.add_to(bike_map)\n",
    "\n",
    "# Save the folium map as an HTML file\n",
    "bike_map.save('bike_map.html')"
   ]
  },
  {
   "cell_type": "code",
   "execution_count": null,
   "id": "15285b49",
   "metadata": {},
   "outputs": [],
   "source": []
  }
 ],
 "metadata": {
  "kernelspec": {
   "display_name": "Python 3 (ipykernel)",
   "language": "python",
   "name": "python3"
  },
  "language_info": {
   "codemirror_mode": {
    "name": "ipython",
    "version": 3
   },
   "file_extension": ".py",
   "mimetype": "text/x-python",
   "name": "python",
   "nbconvert_exporter": "python",
   "pygments_lexer": "ipython3",
   "version": "3.11.5"
  }
 },
 "nbformat": 4,
 "nbformat_minor": 5
}

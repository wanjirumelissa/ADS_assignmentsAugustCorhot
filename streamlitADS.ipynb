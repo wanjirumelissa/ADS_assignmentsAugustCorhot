{
 "cells": [
  {
   "cell_type": "code",
   "execution_count": 1,
   "id": "148be96f",
   "metadata": {},
   "outputs": [
    {
     "name": "stderr",
     "output_type": "stream",
     "text": [
      "2023-12-07 13:03:23.645 \n",
      "  \u001b[33m\u001b[1mWarning:\u001b[0m to view this Streamlit app on a browser, run it with the following\n",
      "  command:\n",
      "\n",
      "    streamlit run C:\\Users\\admin\\Desktop\\Anaconda\\Lib\\site-packages\\ipykernel_launcher.py [ARGUMENTS]\n",
      "C:\\Users\\admin\\Desktop\\Anaconda\\Lib\\site-packages\\seaborn\\axisgrid.py:118: UserWarning: The figure layout has changed to tight\n",
      "  self._figure.tight_layout(*args, **kwargs)\n"
     ]
    },
    {
     "data": {
      "text/plain": [
       "<Figure size 640x480 with 0 Axes>"
      ]
     },
     "metadata": {},
     "output_type": "display_data"
    },
    {
     "data": {
      "text/plain": [
       "<Figure size 1121x1000 with 0 Axes>"
      ]
     },
     "metadata": {},
     "output_type": "display_data"
    }
   ],
   "source": [
    "import streamlit as st\n",
    "import pandas as pd\n",
    "import seaborn as sns\n",
    "import matplotlib.pyplot as plt\n",
    "\n",
    "# Load the Iris dataset\n",
    "url = \"https://archive.ics.uci.edu/ml/machine-learning-databases/iris/iris.data\"\n",
    "columns = [\"sepal_length\", \"sepal_width\", \"petal_length\", \"petal_width\", \"species\"]\n",
    "iris_data = pd.read_csv(url, header=None, names=columns)\n",
    "\n",
    "# Display the raw data\n",
    "st.title(\"Iris Dataset Explorer\")\n",
    "\n",
    "# Display the raw data\n",
    "st.subheader(\"Raw Data\")\n",
    "st.write(iris_data)\n",
    "\n",
    "# Question 1: Show the average sepal length for each species\n",
    "st.subheader(\"Average Sepal Length by Species\")\n",
    "average_sepal_length = iris_data.groupby(\"species\")[\"sepal_length\"].mean()\n",
    "st.bar_chart(average_sepal_length)\n",
    "\n",
    "# Question 2: Display a scatter plot comparing two features\n",
    "st.subheader(\"Scatter Plot\")\n",
    "feature1 = st.selectbox(\"Select the first feature\", iris_data.columns[:-1])\n",
    "feature2 = st.selectbox(\"Select the second feature\", iris_data.columns[:-1])\n",
    "scatter_plot = sns.scatterplot(data=iris_data, x=feature1, y=feature2, hue=\"species\")\n",
    "st.pyplot(scatter_plot.get_figure())\n",
    "\n",
    "# Question 3: Filter data based on species\n",
    "st.subheader(\"Filter Data by Species\")\n",
    "selected_species = st.selectbox(\"Select a species\", iris_data[\"species\"].unique())\n",
    "filtered_data = iris_data[iris_data[\"species\"] == selected_species]\n",
    "st.write(filtered_data)\n",
    "\n",
    "# Question 4: Display a pairplot for the selected species\n",
    "st.subheader(\"Pairplot for Selected Species\")\n",
    "pairplot = sns.pairplot(filtered_data, hue=\"species\")\n",
    "st.pyplot(pairplot)\n",
    "\n",
    "# Question 5: Show the distribution of a selected feature\n",
    "st.subheader(\"Distribution of Selected Feature\")\n",
    "selected_feature = st.selectbox(\"Select a feature\", iris_data.columns[:-1])\n",
    "distribution_plot = sns.histplot(data=iris_data, x=selected_feature, hue=\"species\", kde=True)\n",
    "st.pyplot(distribution_plot.get_figure())\n",
    "\n",
    "# Save the Streamlit app\n",
    "if st.button(\"Save Streamlit App\"):\n",
    "    st.code(\"streamlit run data_explorer.py\")\n",
    "\n",
    "# Save the seaborn plots to files\n",
    "scatter_plot.get_figure().savefig(\"scatter_plot.png\")\n",
    "pairplot.savefig(\"pairplot.png\")\n",
    "distribution_plot.get_figure().savefig(\"distribution_plot.png\")"
   ]
  },
  {
   "cell_type": "code",
   "execution_count": null,
   "id": "296b23bb",
   "metadata": {},
   "outputs": [],
   "source": []
  }
 ],
 "metadata": {
  "kernelspec": {
   "display_name": "Python 3 (ipykernel)",
   "language": "python",
   "name": "python3"
  },
  "language_info": {
   "codemirror_mode": {
    "name": "ipython",
    "version": 3
   },
   "file_extension": ".py",
   "mimetype": "text/x-python",
   "name": "python",
   "nbconvert_exporter": "python",
   "pygments_lexer": "ipython3",
   "version": "3.11.5"
  }
 },
 "nbformat": 4,
 "nbformat_minor": 5
}
